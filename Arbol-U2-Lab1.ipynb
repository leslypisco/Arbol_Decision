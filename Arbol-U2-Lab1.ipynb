{
 "cells": [
  {
   "cell_type": "markdown",
   "id": "58db2e6e",
   "metadata": {},
   "source": [
    "# Librerías"
   ]
  },
  {
   "cell_type": "code",
   "execution_count": 1,
   "id": "0761f718",
   "metadata": {},
   "outputs": [],
   "source": [
    "'''La libreria pandas proporciona herramientas de analisis y manipulacion de datos de alto rendimiento'''\n",
    "import pandas\n",
    "import pydotplus\n",
    "'''seaborn es una librería de visualización de datos para Python desarrollada sobre matplotlib'''\n",
    "import seaborn as sns\n",
    "'''Utilizada para hacer análisis predictivo'''\n",
    "from sklearn import tree\n",
    "'''Cadenas de texto son de tipo str y se delimitan mediante el uso de comillas simples o dobles'''\n",
    "from six import StringIO\n",
    "'''librería para sacar las metricas de un entrenamiento'''\n",
    "from sklearn import metrics\n",
    "'''biblioteca para la generación de gráficos a partir de datos contenidos'''\n",
    "import matplotlib.pyplot as plt\n",
    "'''librería que permite guardar una imágen'''\n",
    "from IPython.display import Image\n",
    "'''libreria para generar la matriz de confusión'''\n",
    "from sklearn.metrics import confusion_matrix\n",
    "'''libreria para generar la matriz de confusión de fora gráfica'''\n",
    "from sklearn.metrics import plot_confusion_matrix\n",
    "'''Determinación de las metricas que se obtuvieron en el entrenamiento, la la viable objetivo es multiclase y es por ello que se calculan las tres clases'''\n",
    "from sklearn.metrics import classification_report\n",
    "from sklearn.model_selection import train_test_split\n",
    "'''uso de la libretia metrict de sklearn para sacar en una esquema la exactitud y precisión'''\n",
    "from sklearn.metrics import accuracy_score, precision_score\n",
    "'''Líbreria para graficar el arbol de decisión'''\n",
    "from sklearn.tree import DecisionTreeClassifier, export_graphviz"
   ]
  },
  {
   "cell_type": "markdown",
   "id": "10399ecd",
   "metadata": {},
   "source": [
    "# Asignación del dataset"
   ]
  },
  {
   "cell_type": "code",
   "execution_count": 2,
   "id": "ef7ac036",
   "metadata": {},
   "outputs": [
    {
     "data": {
      "text/html": [
       "<div>\n",
       "<style scoped>\n",
       "    .dataframe tbody tr th:only-of-type {\n",
       "        vertical-align: middle;\n",
       "    }\n",
       "\n",
       "    .dataframe tbody tr th {\n",
       "        vertical-align: top;\n",
       "    }\n",
       "\n",
       "    .dataframe thead th {\n",
       "        text-align: right;\n",
       "    }\n",
       "</style>\n",
       "<table border=\"1\" class=\"dataframe\">\n",
       "  <thead>\n",
       "    <tr style=\"text-align: right;\">\n",
       "      <th></th>\n",
       "      <th>ID</th>\n",
       "      <th>No_Pation</th>\n",
       "      <th>Gender</th>\n",
       "      <th>AGE</th>\n",
       "      <th>Urea</th>\n",
       "      <th>Cr</th>\n",
       "      <th>HbA1c</th>\n",
       "      <th>Chol</th>\n",
       "      <th>TG</th>\n",
       "      <th>HDL</th>\n",
       "      <th>LDL</th>\n",
       "      <th>VLDL</th>\n",
       "      <th>BMI</th>\n",
       "      <th>CLASS</th>\n",
       "    </tr>\n",
       "  </thead>\n",
       "  <tbody>\n",
       "    <tr>\n",
       "      <th>0</th>\n",
       "      <td>502</td>\n",
       "      <td>17975</td>\n",
       "      <td>F</td>\n",
       "      <td>50</td>\n",
       "      <td>4.7</td>\n",
       "      <td>46</td>\n",
       "      <td>4.9</td>\n",
       "      <td>4.2</td>\n",
       "      <td>0.9</td>\n",
       "      <td>2.4</td>\n",
       "      <td>1.4</td>\n",
       "      <td>0.5</td>\n",
       "      <td>24.0</td>\n",
       "      <td>N</td>\n",
       "    </tr>\n",
       "    <tr>\n",
       "      <th>1</th>\n",
       "      <td>735</td>\n",
       "      <td>34221</td>\n",
       "      <td>M</td>\n",
       "      <td>26</td>\n",
       "      <td>4.5</td>\n",
       "      <td>62</td>\n",
       "      <td>4.9</td>\n",
       "      <td>3.7</td>\n",
       "      <td>1.4</td>\n",
       "      <td>1.1</td>\n",
       "      <td>2.1</td>\n",
       "      <td>0.6</td>\n",
       "      <td>23.0</td>\n",
       "      <td>N</td>\n",
       "    </tr>\n",
       "    <tr>\n",
       "      <th>2</th>\n",
       "      <td>420</td>\n",
       "      <td>47975</td>\n",
       "      <td>F</td>\n",
       "      <td>50</td>\n",
       "      <td>4.7</td>\n",
       "      <td>46</td>\n",
       "      <td>4.9</td>\n",
       "      <td>4.2</td>\n",
       "      <td>0.9</td>\n",
       "      <td>2.4</td>\n",
       "      <td>1.4</td>\n",
       "      <td>0.5</td>\n",
       "      <td>24.0</td>\n",
       "      <td>N</td>\n",
       "    </tr>\n",
       "    <tr>\n",
       "      <th>3</th>\n",
       "      <td>680</td>\n",
       "      <td>87656</td>\n",
       "      <td>F</td>\n",
       "      <td>50</td>\n",
       "      <td>4.7</td>\n",
       "      <td>46</td>\n",
       "      <td>4.9</td>\n",
       "      <td>4.2</td>\n",
       "      <td>0.9</td>\n",
       "      <td>2.4</td>\n",
       "      <td>1.4</td>\n",
       "      <td>0.5</td>\n",
       "      <td>24.0</td>\n",
       "      <td>N</td>\n",
       "    </tr>\n",
       "    <tr>\n",
       "      <th>4</th>\n",
       "      <td>504</td>\n",
       "      <td>34223</td>\n",
       "      <td>M</td>\n",
       "      <td>33</td>\n",
       "      <td>7.1</td>\n",
       "      <td>46</td>\n",
       "      <td>4.9</td>\n",
       "      <td>4.9</td>\n",
       "      <td>1.0</td>\n",
       "      <td>0.8</td>\n",
       "      <td>2.0</td>\n",
       "      <td>0.4</td>\n",
       "      <td>21.0</td>\n",
       "      <td>N</td>\n",
       "    </tr>\n",
       "  </tbody>\n",
       "</table>\n",
       "</div>"
      ],
      "text/plain": [
       "    ID  No_Pation Gender  AGE  Urea  Cr  HbA1c  Chol   TG  HDL  LDL  VLDL  \\\n",
       "0  502      17975      F   50   4.7  46    4.9   4.2  0.9  2.4  1.4   0.5   \n",
       "1  735      34221      M   26   4.5  62    4.9   3.7  1.4  1.1  2.1   0.6   \n",
       "2  420      47975      F   50   4.7  46    4.9   4.2  0.9  2.4  1.4   0.5   \n",
       "3  680      87656      F   50   4.7  46    4.9   4.2  0.9  2.4  1.4   0.5   \n",
       "4  504      34223      M   33   7.1  46    4.9   4.9  1.0  0.8  2.0   0.4   \n",
       "\n",
       "    BMI CLASS  \n",
       "0  24.0     N  \n",
       "1  23.0     N  \n",
       "2  24.0     N  \n",
       "3  24.0     N  \n",
       "4  21.0     N  "
      ]
     },
     "execution_count": 2,
     "metadata": {},
     "output_type": "execute_result"
    }
   ],
   "source": [
    "'''dando uso de la libreria pandas se puede cargar el contenido del dataset 'Diabetes.csv'y este es guardado en la variable df'''\n",
    "df = pandas.read_csv('Diabetes.csv')\n",
    "'''Usando la funcion 'head()' se puede construir un dataframe de los datos cargados en la variable objeto df '''\n",
    "df.head()"
   ]
  },
  {
   "cell_type": "markdown",
   "id": "b9b6af4c",
   "metadata": {},
   "source": [
    "# Escaneo de los datos que se reemplazarán por números"
   ]
  },
  {
   "cell_type": "code",
   "execution_count": 3,
   "id": "5ddbd978",
   "metadata": {},
   "outputs": [
    {
     "data": {
      "text/plain": [
       "Gender\n",
       "F    434\n",
       "M    565\n",
       "f      1\n",
       "dtype: int64"
      ]
     },
     "execution_count": 3,
     "metadata": {},
     "output_type": "execute_result"
    }
   ],
   "source": [
    "'''Se agrupan los datos del campo correspondiente al género, ya que estos serán cambiados a número. \n",
    "Esto tambien se usa para verificar que no existan anomalías en los datos'''\n",
    "df.groupby('Gender').size()"
   ]
  },
  {
   "cell_type": "code",
   "execution_count": 4,
   "id": "f9b4f3ef",
   "metadata": {},
   "outputs": [
    {
     "data": {
      "text/plain": [
       "CLASS\n",
       "N     102\n",
       "N       1\n",
       "P      53\n",
       "Y     840\n",
       "Y       4\n",
       "dtype: int64"
      ]
     },
     "execution_count": 4,
     "metadata": {},
     "output_type": "execute_result"
    }
   ],
   "source": [
    "'''Se agrupan los datos del campo correspondiente a la variable objbetivo, ya que estos serán cambiados a número. \n",
    "Esto tambien se usa para verificar que no existan anomalías en los datos'''\n",
    "df.groupby('CLASS').size()"
   ]
  },
  {
   "cell_type": "markdown",
   "id": "816ad337",
   "metadata": {},
   "source": [
    "### Reemplazo de datos"
   ]
  },
  {
   "cell_type": "code",
   "execution_count": 5,
   "id": "c26fc7d8",
   "metadata": {},
   "outputs": [],
   "source": [
    "'''Se realiza una pequeña limpieza, es decir que se reemplazan las minusculas por mayusculas en el campo del género'''\n",
    "df['Gender']=df['Gender'].replace('f','F')"
   ]
  },
  {
   "cell_type": "code",
   "execution_count": 6,
   "id": "d7d5dcf8",
   "metadata": {},
   "outputs": [],
   "source": [
    "'''Se realiza una pequeña limpieza, es decir que se reemplazan las minusculas por mayusculas en el campo de la varibale objetivo'''\n",
    "df['CLASS']=df['CLASS'].replace('Y ','Y')\n",
    "df['CLASS']=df['CLASS'].replace('N ','N')"
   ]
  },
  {
   "cell_type": "markdown",
   "id": "2116adba",
   "metadata": {},
   "source": [
    "### Verificación del reemplazo"
   ]
  },
  {
   "cell_type": "code",
   "execution_count": 7,
   "id": "f737ff8a",
   "metadata": {},
   "outputs": [
    {
     "data": {
      "text/plain": [
       "Gender\n",
       "F    435\n",
       "M    565\n",
       "dtype: int64"
      ]
     },
     "execution_count": 7,
     "metadata": {},
     "output_type": "execute_result"
    }
   ],
   "source": [
    "'''Se agrupan los datos del campo correspondiente al género, ya que estos serán cambiados a número. \n",
    "Esto tambien se usa para verificar que no existan anomalías en los datos'''\n",
    "df.groupby('Gender').size()"
   ]
  },
  {
   "cell_type": "code",
   "execution_count": 8,
   "id": "7902a1f9",
   "metadata": {},
   "outputs": [
    {
     "data": {
      "text/plain": [
       "CLASS\n",
       "N    103\n",
       "P     53\n",
       "Y    844\n",
       "dtype: int64"
      ]
     },
     "execution_count": 8,
     "metadata": {},
     "output_type": "execute_result"
    }
   ],
   "source": [
    "'''Se agrupan los datos del campo correspondiente a la variable objbetivo, ya que estos serán cambiados a número. \n",
    "Esto tambien se usa para verificar que no existan anomalías en los datos'''\n",
    "df.groupby('CLASS').size()"
   ]
  },
  {
   "cell_type": "markdown",
   "id": "dffd0fa1",
   "metadata": {},
   "source": [
    "# Transformación de datos string a numéricos"
   ]
  },
  {
   "cell_type": "code",
   "execution_count": 9,
   "id": "839732aa",
   "metadata": {},
   "outputs": [],
   "source": [
    "'''Transformación de datos string a numéricos, en este caso se aplica al campo correspondiente al género'''\n",
    "d1 = {'F': 0, 'M': 1}\n",
    "df['Gender'] = df['Gender'].map(d1)"
   ]
  },
  {
   "cell_type": "code",
   "execution_count": 10,
   "id": "51a98f0a",
   "metadata": {},
   "outputs": [],
   "source": [
    "'''Transformación de datos string a numéricos, en este caso se aplica al campo correspondiente a la variable objetivo'''\n",
    "d2 = {'N': 0, 'P': 1, 'Y': 2}\n",
    "df['CLASS'] = df['CLASS'].map(d2)"
   ]
  },
  {
   "cell_type": "markdown",
   "id": "595404a0",
   "metadata": {},
   "source": [
    "### Verificación de los cambios aplicados"
   ]
  },
  {
   "cell_type": "code",
   "execution_count": 11,
   "id": "15d9e578",
   "metadata": {},
   "outputs": [
    {
     "data": {
      "text/html": [
       "<div>\n",
       "<style scoped>\n",
       "    .dataframe tbody tr th:only-of-type {\n",
       "        vertical-align: middle;\n",
       "    }\n",
       "\n",
       "    .dataframe tbody tr th {\n",
       "        vertical-align: top;\n",
       "    }\n",
       "\n",
       "    .dataframe thead th {\n",
       "        text-align: right;\n",
       "    }\n",
       "</style>\n",
       "<table border=\"1\" class=\"dataframe\">\n",
       "  <thead>\n",
       "    <tr style=\"text-align: right;\">\n",
       "      <th></th>\n",
       "      <th>ID</th>\n",
       "      <th>No_Pation</th>\n",
       "      <th>Gender</th>\n",
       "      <th>AGE</th>\n",
       "      <th>Urea</th>\n",
       "      <th>Cr</th>\n",
       "      <th>HbA1c</th>\n",
       "      <th>Chol</th>\n",
       "      <th>TG</th>\n",
       "      <th>HDL</th>\n",
       "      <th>LDL</th>\n",
       "      <th>VLDL</th>\n",
       "      <th>BMI</th>\n",
       "      <th>CLASS</th>\n",
       "    </tr>\n",
       "  </thead>\n",
       "  <tbody>\n",
       "    <tr>\n",
       "      <th>0</th>\n",
       "      <td>502</td>\n",
       "      <td>17975</td>\n",
       "      <td>0</td>\n",
       "      <td>50</td>\n",
       "      <td>4.7</td>\n",
       "      <td>46</td>\n",
       "      <td>4.9</td>\n",
       "      <td>4.2</td>\n",
       "      <td>0.9</td>\n",
       "      <td>2.4</td>\n",
       "      <td>1.4</td>\n",
       "      <td>0.5</td>\n",
       "      <td>24.0</td>\n",
       "      <td>0</td>\n",
       "    </tr>\n",
       "    <tr>\n",
       "      <th>1</th>\n",
       "      <td>735</td>\n",
       "      <td>34221</td>\n",
       "      <td>1</td>\n",
       "      <td>26</td>\n",
       "      <td>4.5</td>\n",
       "      <td>62</td>\n",
       "      <td>4.9</td>\n",
       "      <td>3.7</td>\n",
       "      <td>1.4</td>\n",
       "      <td>1.1</td>\n",
       "      <td>2.1</td>\n",
       "      <td>0.6</td>\n",
       "      <td>23.0</td>\n",
       "      <td>0</td>\n",
       "    </tr>\n",
       "    <tr>\n",
       "      <th>2</th>\n",
       "      <td>420</td>\n",
       "      <td>47975</td>\n",
       "      <td>0</td>\n",
       "      <td>50</td>\n",
       "      <td>4.7</td>\n",
       "      <td>46</td>\n",
       "      <td>4.9</td>\n",
       "      <td>4.2</td>\n",
       "      <td>0.9</td>\n",
       "      <td>2.4</td>\n",
       "      <td>1.4</td>\n",
       "      <td>0.5</td>\n",
       "      <td>24.0</td>\n",
       "      <td>0</td>\n",
       "    </tr>\n",
       "    <tr>\n",
       "      <th>3</th>\n",
       "      <td>680</td>\n",
       "      <td>87656</td>\n",
       "      <td>0</td>\n",
       "      <td>50</td>\n",
       "      <td>4.7</td>\n",
       "      <td>46</td>\n",
       "      <td>4.9</td>\n",
       "      <td>4.2</td>\n",
       "      <td>0.9</td>\n",
       "      <td>2.4</td>\n",
       "      <td>1.4</td>\n",
       "      <td>0.5</td>\n",
       "      <td>24.0</td>\n",
       "      <td>0</td>\n",
       "    </tr>\n",
       "    <tr>\n",
       "      <th>4</th>\n",
       "      <td>504</td>\n",
       "      <td>34223</td>\n",
       "      <td>1</td>\n",
       "      <td>33</td>\n",
       "      <td>7.1</td>\n",
       "      <td>46</td>\n",
       "      <td>4.9</td>\n",
       "      <td>4.9</td>\n",
       "      <td>1.0</td>\n",
       "      <td>0.8</td>\n",
       "      <td>2.0</td>\n",
       "      <td>0.4</td>\n",
       "      <td>21.0</td>\n",
       "      <td>0</td>\n",
       "    </tr>\n",
       "  </tbody>\n",
       "</table>\n",
       "</div>"
      ],
      "text/plain": [
       "    ID  No_Pation  Gender  AGE  Urea  Cr  HbA1c  Chol   TG  HDL  LDL  VLDL  \\\n",
       "0  502      17975       0   50   4.7  46    4.9   4.2  0.9  2.4  1.4   0.5   \n",
       "1  735      34221       1   26   4.5  62    4.9   3.7  1.4  1.1  2.1   0.6   \n",
       "2  420      47975       0   50   4.7  46    4.9   4.2  0.9  2.4  1.4   0.5   \n",
       "3  680      87656       0   50   4.7  46    4.9   4.2  0.9  2.4  1.4   0.5   \n",
       "4  504      34223       1   33   7.1  46    4.9   4.9  1.0  0.8  2.0   0.4   \n",
       "\n",
       "    BMI  CLASS  \n",
       "0  24.0      0  \n",
       "1  23.0      0  \n",
       "2  24.0      0  \n",
       "3  24.0      0  \n",
       "4  21.0      0  "
      ]
     },
     "execution_count": 11,
     "metadata": {},
     "output_type": "execute_result"
    }
   ],
   "source": [
    "'''Usando la funcion 'head()' se puede construir un dataframe para observar de mejor forma los datos '''\n",
    "df.head()"
   ]
  },
  {
   "cell_type": "markdown",
   "id": "9ca98fc9",
   "metadata": {},
   "source": [
    "# Selección de características y variable objetivo"
   ]
  },
  {
   "cell_type": "markdown",
   "id": "6bb7cae2",
   "metadata": {},
   "source": [
    "### Cracterísticas"
   ]
  },
  {
   "cell_type": "code",
   "execution_count": 12,
   "id": "3834f564",
   "metadata": {},
   "outputs": [
    {
     "data": {
      "text/html": [
       "<div>\n",
       "<style scoped>\n",
       "    .dataframe tbody tr th:only-of-type {\n",
       "        vertical-align: middle;\n",
       "    }\n",
       "\n",
       "    .dataframe tbody tr th {\n",
       "        vertical-align: top;\n",
       "    }\n",
       "\n",
       "    .dataframe thead th {\n",
       "        text-align: right;\n",
       "    }\n",
       "</style>\n",
       "<table border=\"1\" class=\"dataframe\">\n",
       "  <thead>\n",
       "    <tr style=\"text-align: right;\">\n",
       "      <th></th>\n",
       "      <th>Gender</th>\n",
       "      <th>AGE</th>\n",
       "      <th>Urea</th>\n",
       "      <th>Cr</th>\n",
       "      <th>HbA1c</th>\n",
       "      <th>Chol</th>\n",
       "      <th>TG</th>\n",
       "      <th>HDL</th>\n",
       "      <th>LDL</th>\n",
       "      <th>VLDL</th>\n",
       "      <th>BMI</th>\n",
       "    </tr>\n",
       "  </thead>\n",
       "  <tbody>\n",
       "    <tr>\n",
       "      <th>0</th>\n",
       "      <td>0</td>\n",
       "      <td>50</td>\n",
       "      <td>4.7</td>\n",
       "      <td>46</td>\n",
       "      <td>4.9</td>\n",
       "      <td>4.2</td>\n",
       "      <td>0.9</td>\n",
       "      <td>2.4</td>\n",
       "      <td>1.4</td>\n",
       "      <td>0.5</td>\n",
       "      <td>24.0</td>\n",
       "    </tr>\n",
       "    <tr>\n",
       "      <th>1</th>\n",
       "      <td>1</td>\n",
       "      <td>26</td>\n",
       "      <td>4.5</td>\n",
       "      <td>62</td>\n",
       "      <td>4.9</td>\n",
       "      <td>3.7</td>\n",
       "      <td>1.4</td>\n",
       "      <td>1.1</td>\n",
       "      <td>2.1</td>\n",
       "      <td>0.6</td>\n",
       "      <td>23.0</td>\n",
       "    </tr>\n",
       "    <tr>\n",
       "      <th>2</th>\n",
       "      <td>0</td>\n",
       "      <td>50</td>\n",
       "      <td>4.7</td>\n",
       "      <td>46</td>\n",
       "      <td>4.9</td>\n",
       "      <td>4.2</td>\n",
       "      <td>0.9</td>\n",
       "      <td>2.4</td>\n",
       "      <td>1.4</td>\n",
       "      <td>0.5</td>\n",
       "      <td>24.0</td>\n",
       "    </tr>\n",
       "    <tr>\n",
       "      <th>3</th>\n",
       "      <td>0</td>\n",
       "      <td>50</td>\n",
       "      <td>4.7</td>\n",
       "      <td>46</td>\n",
       "      <td>4.9</td>\n",
       "      <td>4.2</td>\n",
       "      <td>0.9</td>\n",
       "      <td>2.4</td>\n",
       "      <td>1.4</td>\n",
       "      <td>0.5</td>\n",
       "      <td>24.0</td>\n",
       "    </tr>\n",
       "    <tr>\n",
       "      <th>4</th>\n",
       "      <td>1</td>\n",
       "      <td>33</td>\n",
       "      <td>7.1</td>\n",
       "      <td>46</td>\n",
       "      <td>4.9</td>\n",
       "      <td>4.9</td>\n",
       "      <td>1.0</td>\n",
       "      <td>0.8</td>\n",
       "      <td>2.0</td>\n",
       "      <td>0.4</td>\n",
       "      <td>21.0</td>\n",
       "    </tr>\n",
       "  </tbody>\n",
       "</table>\n",
       "</div>"
      ],
      "text/plain": [
       "   Gender  AGE  Urea  Cr  HbA1c  Chol   TG  HDL  LDL  VLDL   BMI\n",
       "0       0   50   4.7  46    4.9   4.2  0.9  2.4  1.4   0.5  24.0\n",
       "1       1   26   4.5  62    4.9   3.7  1.4  1.1  2.1   0.6  23.0\n",
       "2       0   50   4.7  46    4.9   4.2  0.9  2.4  1.4   0.5  24.0\n",
       "3       0   50   4.7  46    4.9   4.2  0.9  2.4  1.4   0.5  24.0\n",
       "4       1   33   7.1  46    4.9   4.9  1.0  0.8  2.0   0.4  21.0"
      ]
     },
     "execution_count": 12,
     "metadata": {},
     "output_type": "execute_result"
    }
   ],
   "source": [
    "'''Creación de un array en donde se colocan los nombres de los campos seleccionados como características'''\n",
    "features = ['Gender', 'AGE', 'Urea','Cr','HbA1c', 'Chol', 'TG','HDL','LDL', 'VLDL', 'BMI']\n",
    "'''Asignación del array al data frame para seleccionar de mejor forma las características'''\n",
    "X = df[features]\n",
    "'''Impresión de las caracteristicas usando la funcion head() para visualizar de mejor forma los datos'''\n",
    "X.head()"
   ]
  },
  {
   "cell_type": "markdown",
   "id": "fc8cb6ff",
   "metadata": {},
   "source": [
    "### Variable objetivo"
   ]
  },
  {
   "cell_type": "code",
   "execution_count": 13,
   "id": "3bf86c2f",
   "metadata": {},
   "outputs": [
    {
     "data": {
      "text/plain": [
       "0    0\n",
       "1    0\n",
       "2    0\n",
       "3    0\n",
       "4    0\n",
       "Name: CLASS, dtype: int64"
      ]
     },
     "execution_count": 13,
     "metadata": {},
     "output_type": "execute_result"
    }
   ],
   "source": [
    "'''Asignacion de toda la columna de 'CLASS' que se encuentra en el dataframe '''\n",
    "y = df.CLASS\n",
    "'''Impresión de la variable objetivo usando la funcion head() para visualizar de mejor forma los datos'''\n",
    "y.head()"
   ]
  },
  {
   "cell_type": "markdown",
   "id": "90359f52",
   "metadata": {},
   "source": [
    "# División de datos"
   ]
  },
  {
   "cell_type": "code",
   "execution_count": 14,
   "id": "4bfdcdf3",
   "metadata": {},
   "outputs": [],
   "source": [
    "'''División del modelo con 70% de entrenamiento y 30% prueba'''\n",
    "X_train, X_test, y_train, y_test = train_test_split(X, y, test_size=0.3, random_state=1)"
   ]
  },
  {
   "cell_type": "markdown",
   "id": "49447af6",
   "metadata": {},
   "source": [
    "# Modelo de clasificación a implementar"
   ]
  },
  {
   "cell_type": "code",
   "execution_count": 15,
   "id": "c371ba55",
   "metadata": {},
   "outputs": [],
   "source": [
    "''''Contrucción de un clasificador de árbol de decisión a partir del conjunto de entrenamiento '''\n",
    "clf = DecisionTreeClassifier()\n",
    "'''Uso de las caracteristicas y etiquetas para realizar el entrenamiento. \n",
    "    En este caso se llama al modelo de clasificación asignado anteriormente\n",
    "    y para el entrenamiento se usa la funcion que brinda Python que en este caso es \"fit\" '''\n",
    "clf = clf.fit(X_train, y_train)\n",
    "'''Uso de los test de caracteristicas para realizar la predicción. Para su implementación se da uso del entrenamiento\n",
    "y este llama a la función 'predict' la cual es propia de Python, como parámetro se tiene el test de la variable de objetivo'''\n",
    "y_pred = clf.predict(X_test)"
   ]
  },
  {
   "cell_type": "markdown",
   "id": "676a70fb",
   "metadata": {},
   "source": [
    "# Matríz de confusión"
   ]
  },
  {
   "cell_type": "markdown",
   "id": "b6d0e041",
   "metadata": {},
   "source": [
    "#### Matríz sin diseño"
   ]
  },
  {
   "cell_type": "code",
   "execution_count": 16,
   "id": "91909d35",
   "metadata": {},
   "outputs": [
    {
     "name": "stdout",
     "output_type": "stream",
     "text": [
      "[[ 29   0   3]\n",
      " [  2  13   1]\n",
      " [  4   1 247]]\n"
     ]
    }
   ],
   "source": [
    "'''Creación de la matríz de confusión usando las pruebas de la variable objetivo y la predicción de este'''\n",
    "matrizConf=(confusion_matrix(y_test, y_pred))\n",
    "'''Impresión de la matríz'''\n",
    "print(matrizConf)"
   ]
  },
  {
   "cell_type": "markdown",
   "id": "90d6a9f4",
   "metadata": {},
   "source": [
    "#### Matríz con diseño"
   ]
  },
  {
   "cell_type": "code",
   "execution_count": 17,
   "id": "cf6e417d",
   "metadata": {},
   "outputs": [
    {
     "name": "stderr",
     "output_type": "stream",
     "text": [
      "C:\\Users\\lesly\\anaconda3\\lib\\site-packages\\sklearn\\utils\\deprecation.py:87: FutureWarning: Function plot_confusion_matrix is deprecated; Function `plot_confusion_matrix` is deprecated in 1.0 and will be removed in 1.2. Use one of the class methods: ConfusionMatrixDisplay.from_predictions or ConfusionMatrixDisplay.from_estimator.\n",
      "  warnings.warn(msg, category=FutureWarning)\n",
      "findfont: Font family ['Amasis MT Pro Black'] not found. Falling back to DejaVu Sans.\n"
     ]
    },
    {
     "data": {
      "image/png": "[encoded data removed]",
      "text/plain": [
       "<Figure size 432x288 with 2 Axes>"
      ]
     },
     "metadata": {
      "needs_background": "light"
     },
     "output_type": "display_data"
    }
   ],
   "source": [
    "'''Proporcionará una matriz que representa los verdaderos positivos, falsos positivos, falsos negativos y verdaderos negativos de forma gráfica. '''\n",
    "plot_confusion_matrix(clf, X_test, y_test, cmap=plt.cm.GnBu)\n",
    "'''Asignación de un título'''\n",
    "plt.title(\"Matriz de Confusión\",\n",
    "        #'''Posición de la matríz al ser ejecutada'''\n",
    "          position=(0.5, 0.9),\n",
    "         # '''Tipo de letra'''\n",
    "          fontdict={'family': 'Amasis MT Pro Black',\n",
    "          #          '''Letra en negritas'''\n",
    "                    'weight': 'bold',\n",
    "           #         '''tamaño del título'''\n",
    "                    'size': 15})\n",
    "'''Ejecución de la matríz'''\n",
    "plt.show()"
   ]
  },
  {
   "cell_type": "markdown",
   "id": "4ad541e9",
   "metadata": {},
   "source": [
    "### Métricas"
   ]
  },
  {
   "cell_type": "code",
   "execution_count": 18,
   "id": "8999cd9a",
   "metadata": {},
   "outputs": [
    {
     "name": "stdout",
     "output_type": "stream",
     "text": [
      "              precision    recall  f1-score   support\n",
      "\n",
      "     Class 1       0.83      0.91      0.87        32\n",
      "     Class 2       0.93      0.81      0.87        16\n",
      "     Class 3       0.98      0.98      0.98       252\n",
      "\n",
      "    accuracy                           0.96       300\n",
      "   macro avg       0.91      0.90      0.90       300\n",
      "weighted avg       0.96      0.96      0.96       300\n",
      "\n"
     ]
    },
    {
     "data": {
      "text/plain": [
       "' Interpretación: \\nPara la clase 1 en la que los pacientes no tienen diabetes se obtuvo una precision del 83%.\\nPara la clase 2 en la que los pacientes probablemente tienen diabetes se obtuvo una precision del 100%\\nPara la clase 3 en la que los pacientes si tiene diabetes se obtuvo una precision del 98%%. \\nLa exactitud del modelo es del 97% en lo que se puede recomendar su implementación\\n'"
      ]
     },
     "execution_count": 18,
     "metadata": {},
     "output_type": "execute_result"
    }
   ],
   "source": [
    "'''Determinación de las metricas que se obtuvieron en el entrenamiento, la la viable objetivo es multiclase y es por ello que se calculan las tres clases'''\n",
    "print(classification_report(y_test, y_pred, target_names=['Class 1', 'Class 2', 'Class 3'])) #'N': 0, 'P': 1, 'Y': 2 Sensibilidad\n",
    "''' Interpretación: \n",
    "Para la clase 1 en la que los pacientes no tienen diabetes se obtuvo una precision del 83%.\n",
    "Para la clase 2 en la que los pacientes probablemente tienen diabetes se obtuvo una precision del 100%\n",
    "Para la clase 3 en la que los pacientes si tiene diabetes se obtuvo una precision del 98%%. \n",
    "La exactitud del modelo es del 97% en lo que se puede recomendar su implementación\n",
    "'''"
   ]
  }
 ],
 "metadata": {
  "kernelspec": {
   "display_name": "Python 3 (ipykernel)",
   "language": "python",
   "name": "python3"
  },
  "language_info": {
   "codemirror_mode": {
    "name": "ipython",
    "version": 3
   },
   "file_extension": ".py",
   "mimetype": "text/x-python",
   "name": "python",
   "nbconvert_exporter": "python",
   "pygments_lexer": "ipython3",
   "version": "3.9.12"
  }
 },
 "nbformat": 4,
 "nbformat_minor": 5
}
